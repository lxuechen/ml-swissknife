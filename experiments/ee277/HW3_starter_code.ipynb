{
 "cells": [
  {
   "cell_type": "markdown",
   "metadata": {
    "id": "MgI1_N6FIDNY"
   },
   "source": [
    "# Question 2: conditional variance as an approximation of mutual information"
   ]
  },
  {
   "cell_type": "markdown",
   "metadata": {
    "id": "2ShSL4hgEFqu"
   },
   "source": []
  },
  {
   "cell_type": "code",
   "execution_count": 1,
   "metadata": {
    "id": "PRKfWodjIcOY"
   },
   "outputs": [],
   "source": [
    "from scipy.stats import beta"
   ]
  },
  {
   "cell_type": "code",
   "execution_count": 2,
   "metadata": {
    "id": "DKhBXBacIkzQ",
    "scrolled": true
   },
   "outputs": [
    {
     "data": {
      "text/plain": [
       "0.038366256079300776"
      ]
     },
     "execution_count": 2,
     "metadata": {},
     "output_type": "execute_result"
    }
   ],
   "source": [
    "# The code here is just for you to see how to call the entropy function.\n",
    "a = 1\n",
    "b = 10\n",
    "conditional_entropy = beta.mean(a, b) * beta.entropy(a + 1, b) + (1 - beta.mean(a, b)) * beta.entropy(a, b + 1)\n",
    "mutual_information = beta.entropy(a, b) - conditional_entropy\n",
    "mutual_information"
   ]
  },
  {
   "cell_type": "code",
   "execution_count": 19,
   "metadata": {
    "scrolled": true
   },
   "outputs": [
    {
     "data": {
      "image/png": "[encoded data removed]",
      "text/plain": [
       "<Figure size 432x288 with 1 Axes>"
      ]
     },
     "metadata": {
      "needs_background": "light"
     },
     "output_type": "display_data"
    }
   ],
   "source": [
    "def comp_mi(al, be):\n",
    "    conditional_entropy = beta.mean(al, be) * beta.entropy(al + 1, be) + (1 - beta.mean(al, be)) * beta.entropy(al, be + 1)\n",
    "    return beta.entropy(al, be) - conditional_entropy\n",
    "\n",
    "def comp_var(al, be):\n",
    "    # closed-form solution computed using law of total expectation\n",
    "    return 1 / (al + be + 1) ** 2. * (al * be / (al + be) ** 2.)\n",
    "\n",
    "import numpy as np\n",
    "import matplotlib.pyplot as plt\n",
    "\n",
    "alphs = np.linspace(start=0.1, stop=20)\n",
    "\n",
    "b1 = [comp_mi(alph, 1) for alph in alphs]\n",
    "b5 = [comp_mi(alph, 5) for alph in alphs]\n",
    "b20 = [comp_mi(alph, 20) for alph in alphs]\n",
    "plt.plot(alphs, b1, label=\"MI $b=1$\")\n",
    "plt.plot(alphs, b5, label=\"MI $b=5$\")\n",
    "plt.plot(alphs, b20, label=\"MI $b=20$\")\n",
    "\n",
    "b1 = [comp_var(alph, 1) for alph in alphs]\n",
    "b5 = [comp_var(alph, 5) for alph in alphs]\n",
    "b20 = [comp_var(alph, 20) for alph in alphs]\n",
    "plt.plot(alphs, b1, label=\"variance $b=1$\", linestyle='-.')\n",
    "plt.plot(alphs, b5, label=\"variance $b=5$\", linestyle='-.')\n",
    "plt.plot(alphs, b20, label=\"variance $b=20$\", linestyle='-.')\n",
    "\n",
    "plt.xlabel(\"$a$\")\n",
    "plt.legend()\n",
    "plt.show()"
   ]
  },
  {
   "cell_type": "markdown",
   "metadata": {
    "id": "bcvcb9lFJNKg"
   },
   "source": [
    "# Question 3: Expected cumulative regret of Thompson sampling in the meeting room environment"
   ]
  },
  {
   "cell_type": "markdown",
   "metadata": {
    "id": "cZvmrI8hdE8m"
   },
   "source": [
    "You should not implement the Thompson sampling agent here. Compute the regret analytically. Optionally you can plot the analytically computed cumulative regret here."
   ]
  },
  {
   "cell_type": "markdown",
   "metadata": {
    "id": "Ho_DdegKoQRl"
   },
   "source": [
    "# Question 4: Multi-item recommendation problem with per item cost"
   ]
  },
  {
   "cell_type": "markdown",
   "metadata": {
    "id": "ruSOPgrHy7Do"
   },
   "source": [
    "## Install and load the necessary packages"
   ]
  },
  {
   "cell_type": "code",
   "execution_count": 20,
   "metadata": {
    "id": "_TqlnZ15ps8u"
   },
   "outputs": [],
   "source": [
    "!pip install -q optax"
   ]
  },
  {
   "cell_type": "code",
   "execution_count": 21,
   "metadata": {
    "id": "8xlRiTrzSKSh"
   },
   "outputs": [
    {
     "ename": "RuntimeError",
     "evalue": "This version of jaxlib was built using AVX instructions, which your CPU and/or operating system do not support. You may be able work around this issue by building jaxlib from source.",
     "output_type": "error",
     "traceback": [
      "\u001B[0;31m---------------------------------------------------------------------------\u001B[0m",
      "\u001B[0;31mRuntimeError\u001B[0m                              Traceback (most recent call last)",
      "Input \u001B[0;32mIn [21]\u001B[0m, in \u001B[0;36m<cell line: 1>\u001B[0;34m()\u001B[0m\n\u001B[0;32m----> 1\u001B[0m \u001B[38;5;28;01mimport\u001B[39;00m \u001B[38;5;21;01moptax\u001B[39;00m\n\u001B[1;32m      2\u001B[0m \u001B[38;5;28;01mimport\u001B[39;00m \u001B[38;5;21;01mjax\u001B[39;00m\n\u001B[1;32m      3\u001B[0m \u001B[38;5;28;01mimport\u001B[39;00m \u001B[38;5;21;01mjax\u001B[39;00m\u001B[38;5;21;01m.\u001B[39;00m\u001B[38;5;21;01mnumpy\u001B[39;00m \u001B[38;5;28;01mas\u001B[39;00m \u001B[38;5;21;01mjnp\u001B[39;00m\n",
      "File \u001B[0;32m~/opt/anaconda3/envs/torch/lib/python3.10/site-packages/optax/__init__.py:17\u001B[0m, in \u001B[0;36m<module>\u001B[0;34m\u001B[0m\n\u001B[1;32m      1\u001B[0m \u001B[38;5;66;03m# Copyright 2019 DeepMind Technologies Limited. All Rights Reserved.\u001B[39;00m\n\u001B[1;32m      2\u001B[0m \u001B[38;5;66;03m#\u001B[39;00m\n\u001B[1;32m      3\u001B[0m \u001B[38;5;66;03m# Licensed under the Apache License, Version 2.0 (the \"License\");\u001B[39;00m\n\u001B[0;32m   (...)\u001B[0m\n\u001B[1;32m     13\u001B[0m \u001B[38;5;66;03m# limitations under the License.\u001B[39;00m\n\u001B[1;32m     14\u001B[0m \u001B[38;5;66;03m# ==============================================================================\u001B[39;00m\n\u001B[1;32m     15\u001B[0m \u001B[38;5;124;03m\"\"\"Optax: composable gradient processing and optimization, in JAX.\"\"\"\u001B[39;00m\n\u001B[0;32m---> 17\u001B[0m \u001B[38;5;28;01mfrom\u001B[39;00m \u001B[38;5;21;01moptax\u001B[39;00m \u001B[38;5;28;01mimport\u001B[39;00m experimental\n\u001B[1;32m     18\u001B[0m \u001B[38;5;28;01mfrom\u001B[39;00m \u001B[38;5;21;01moptax\u001B[39;00m\u001B[38;5;21;01m.\u001B[39;00m\u001B[38;5;21;01m_src\u001B[39;00m\u001B[38;5;21;01m.\u001B[39;00m\u001B[38;5;21;01malias\u001B[39;00m \u001B[38;5;28;01mimport\u001B[39;00m adabelief\n\u001B[1;32m     19\u001B[0m \u001B[38;5;28;01mfrom\u001B[39;00m \u001B[38;5;21;01moptax\u001B[39;00m\u001B[38;5;21;01m.\u001B[39;00m\u001B[38;5;21;01m_src\u001B[39;00m\u001B[38;5;21;01m.\u001B[39;00m\u001B[38;5;21;01malias\u001B[39;00m \u001B[38;5;28;01mimport\u001B[39;00m adafactor\n",
      "File \u001B[0;32m~/opt/anaconda3/envs/torch/lib/python3.10/site-packages/optax/experimental/__init__.py:20\u001B[0m, in \u001B[0;36m<module>\u001B[0;34m\u001B[0m\n\u001B[1;32m      1\u001B[0m \u001B[38;5;66;03m# Copyright 2021 DeepMind Technologies Limited. All Rights Reserved.\u001B[39;00m\n\u001B[1;32m      2\u001B[0m \u001B[38;5;66;03m#\u001B[39;00m\n\u001B[1;32m      3\u001B[0m \u001B[38;5;66;03m# Licensed under the Apache License, Version 2.0 (the \"License\");\u001B[39;00m\n\u001B[0;32m   (...)\u001B[0m\n\u001B[1;32m     13\u001B[0m \u001B[38;5;66;03m# limitations under the License.\u001B[39;00m\n\u001B[1;32m     14\u001B[0m \u001B[38;5;66;03m# ==============================================================================\u001B[39;00m\n\u001B[1;32m     15\u001B[0m \u001B[38;5;124;03m\"\"\"Experimental features in Optax.\u001B[39;00m\n\u001B[1;32m     16\u001B[0m \n\u001B[1;32m     17\u001B[0m \u001B[38;5;124;03mFeatures may be removed or modified at any time.\u001B[39;00m\n\u001B[1;32m     18\u001B[0m \u001B[38;5;124;03m\"\"\"\u001B[39;00m\n\u001B[0;32m---> 20\u001B[0m \u001B[38;5;28;01mfrom\u001B[39;00m \u001B[38;5;21;01moptax\u001B[39;00m\u001B[38;5;21;01m.\u001B[39;00m\u001B[38;5;21;01m_src\u001B[39;00m\u001B[38;5;21;01m.\u001B[39;00m\u001B[38;5;21;01mexperimental\u001B[39;00m\u001B[38;5;21;01m.\u001B[39;00m\u001B[38;5;21;01mcomplex_valued\u001B[39;00m \u001B[38;5;28;01mimport\u001B[39;00m split_real_and_imaginary\n\u001B[1;32m     21\u001B[0m \u001B[38;5;28;01mfrom\u001B[39;00m \u001B[38;5;21;01moptax\u001B[39;00m\u001B[38;5;21;01m.\u001B[39;00m\u001B[38;5;21;01m_src\u001B[39;00m\u001B[38;5;21;01m.\u001B[39;00m\u001B[38;5;21;01mexperimental\u001B[39;00m\u001B[38;5;21;01m.\u001B[39;00m\u001B[38;5;21;01mcomplex_valued\u001B[39;00m \u001B[38;5;28;01mimport\u001B[39;00m SplitRealAndImaginaryState\n",
      "File \u001B[0;32m~/opt/anaconda3/envs/torch/lib/python3.10/site-packages/optax/_src/experimental/complex_valued.py:32\u001B[0m, in \u001B[0;36m<module>\u001B[0;34m\u001B[0m\n\u001B[1;32m     15\u001B[0m \u001B[38;5;124;03m\"\"\"Complex-valued optimization.\u001B[39;00m\n\u001B[1;32m     16\u001B[0m \n\u001B[1;32m     17\u001B[0m \u001B[38;5;124;03mWhen using `split_real_and_imaginary` to wrap an optimizer, we split the complex\u001B[39;00m\n\u001B[0;32m   (...)\u001B[0m\n\u001B[1;32m     27\u001B[0m \u001B[38;5;124;03mSee details at https://github.com/deepmind/optax/issues/196\u001B[39;00m\n\u001B[1;32m     28\u001B[0m \u001B[38;5;124;03m\"\"\"\u001B[39;00m\n\u001B[1;32m     30\u001B[0m \u001B[38;5;28;01mfrom\u001B[39;00m \u001B[38;5;21;01mtyping\u001B[39;00m \u001B[38;5;28;01mimport\u001B[39;00m NamedTuple, Union\n\u001B[0;32m---> 32\u001B[0m \u001B[38;5;28;01mimport\u001B[39;00m \u001B[38;5;21;01mchex\u001B[39;00m\n\u001B[1;32m     33\u001B[0m \u001B[38;5;28;01mimport\u001B[39;00m \u001B[38;5;21;01mjax\u001B[39;00m\n\u001B[1;32m     34\u001B[0m \u001B[38;5;28;01mimport\u001B[39;00m \u001B[38;5;21;01mjax\u001B[39;00m\u001B[38;5;21;01m.\u001B[39;00m\u001B[38;5;21;01mnumpy\u001B[39;00m \u001B[38;5;28;01mas\u001B[39;00m \u001B[38;5;21;01mjnp\u001B[39;00m\n",
      "File \u001B[0;32m~/opt/anaconda3/envs/torch/lib/python3.10/site-packages/chex/__init__.py:17\u001B[0m, in \u001B[0;36m<module>\u001B[0;34m\u001B[0m\n\u001B[1;32m      1\u001B[0m \u001B[38;5;66;03m# Copyright 2020 DeepMind Technologies Limited. All Rights Reserved.\u001B[39;00m\n\u001B[1;32m      2\u001B[0m \u001B[38;5;66;03m#\u001B[39;00m\n\u001B[1;32m      3\u001B[0m \u001B[38;5;66;03m# Licensed under the Apache License, Version 2.0 (the \"License\");\u001B[39;00m\n\u001B[0;32m   (...)\u001B[0m\n\u001B[1;32m     13\u001B[0m \u001B[38;5;66;03m# limitations under the License.\u001B[39;00m\n\u001B[1;32m     14\u001B[0m \u001B[38;5;66;03m# ==============================================================================\u001B[39;00m\n\u001B[1;32m     15\u001B[0m \u001B[38;5;124;03m\"\"\"Chex: Testing made fun, in JAX!\"\"\"\u001B[39;00m\n\u001B[0;32m---> 17\u001B[0m \u001B[38;5;28;01mfrom\u001B[39;00m \u001B[38;5;21;01mchex\u001B[39;00m\u001B[38;5;21;01m.\u001B[39;00m\u001B[38;5;21;01m_src\u001B[39;00m\u001B[38;5;21;01m.\u001B[39;00m\u001B[38;5;21;01masserts\u001B[39;00m \u001B[38;5;28;01mimport\u001B[39;00m assert_axis_dimension\n\u001B[1;32m     18\u001B[0m \u001B[38;5;28;01mfrom\u001B[39;00m \u001B[38;5;21;01mchex\u001B[39;00m\u001B[38;5;21;01m.\u001B[39;00m\u001B[38;5;21;01m_src\u001B[39;00m\u001B[38;5;21;01m.\u001B[39;00m\u001B[38;5;21;01masserts\u001B[39;00m \u001B[38;5;28;01mimport\u001B[39;00m assert_axis_dimension_comparator\n\u001B[1;32m     19\u001B[0m \u001B[38;5;28;01mfrom\u001B[39;00m \u001B[38;5;21;01mchex\u001B[39;00m\u001B[38;5;21;01m.\u001B[39;00m\u001B[38;5;21;01m_src\u001B[39;00m\u001B[38;5;21;01m.\u001B[39;00m\u001B[38;5;21;01masserts\u001B[39;00m \u001B[38;5;28;01mimport\u001B[39;00m assert_axis_dimension_gt\n",
      "File \u001B[0;32m~/opt/anaconda3/envs/torch/lib/python3.10/site-packages/chex/_src/asserts.py:26\u001B[0m, in \u001B[0;36m<module>\u001B[0;34m\u001B[0m\n\u001B[1;32m     23\u001B[0m \u001B[38;5;28;01mimport\u001B[39;00m \u001B[38;5;21;01munittest\u001B[39;00m\n\u001B[1;32m     24\u001B[0m \u001B[38;5;28;01mfrom\u001B[39;00m \u001B[38;5;21;01munittest\u001B[39;00m \u001B[38;5;28;01mimport\u001B[39;00m mock\n\u001B[0;32m---> 26\u001B[0m \u001B[38;5;28;01mfrom\u001B[39;00m \u001B[38;5;21;01mchex\u001B[39;00m\u001B[38;5;21;01m.\u001B[39;00m\u001B[38;5;21;01m_src\u001B[39;00m \u001B[38;5;28;01mimport\u001B[39;00m asserts_internal \u001B[38;5;28;01mas\u001B[39;00m _ai\n\u001B[1;32m     27\u001B[0m \u001B[38;5;28;01mfrom\u001B[39;00m \u001B[38;5;21;01mchex\u001B[39;00m\u001B[38;5;21;01m.\u001B[39;00m\u001B[38;5;21;01m_src\u001B[39;00m \u001B[38;5;28;01mimport\u001B[39;00m pytypes\n\u001B[1;32m     28\u001B[0m \u001B[38;5;28;01mimport\u001B[39;00m \u001B[38;5;21;01mjax\u001B[39;00m\n",
      "File \u001B[0;32m~/opt/anaconda3/envs/torch/lib/python3.10/site-packages/chex/_src/asserts_internal.py:34\u001B[0m, in \u001B[0;36m<module>\u001B[0;34m\u001B[0m\n\u001B[1;32m     31\u001B[0m \u001B[38;5;28;01mfrom\u001B[39;00m \u001B[38;5;21;01mtyping\u001B[39;00m \u001B[38;5;28;01mimport\u001B[39;00m Any, Sequence, Union, Callable, Optional, Set, Tuple, Type\n\u001B[1;32m     33\u001B[0m \u001B[38;5;28;01mfrom\u001B[39;00m \u001B[38;5;21;01mabsl\u001B[39;00m \u001B[38;5;28;01mimport\u001B[39;00m logging\n\u001B[0;32m---> 34\u001B[0m \u001B[38;5;28;01mfrom\u001B[39;00m \u001B[38;5;21;01mchex\u001B[39;00m\u001B[38;5;21;01m.\u001B[39;00m\u001B[38;5;21;01m_src\u001B[39;00m \u001B[38;5;28;01mimport\u001B[39;00m pytypes\n\u001B[1;32m     35\u001B[0m \u001B[38;5;28;01mimport\u001B[39;00m \u001B[38;5;21;01mjax\u001B[39;00m\n\u001B[1;32m     36\u001B[0m \u001B[38;5;28;01mfrom\u001B[39;00m \u001B[38;5;21;01mjax\u001B[39;00m\u001B[38;5;21;01m.\u001B[39;00m\u001B[38;5;21;01mexperimental\u001B[39;00m \u001B[38;5;28;01mimport\u001B[39;00m checkify\n",
      "File \u001B[0;32m~/opt/anaconda3/envs/torch/lib/python3.10/site-packages/chex/_src/pytypes.py:18\u001B[0m, in \u001B[0;36m<module>\u001B[0;34m\u001B[0m\n\u001B[1;32m     15\u001B[0m \u001B[38;5;124;03m\"\"\"Pytypes for arrays and scalars.\"\"\"\u001B[39;00m\n\u001B[1;32m     17\u001B[0m \u001B[38;5;28;01mfrom\u001B[39;00m \u001B[38;5;21;01mtyping\u001B[39;00m \u001B[38;5;28;01mimport\u001B[39;00m Any, Iterable, Mapping, Union\n\u001B[0;32m---> 18\u001B[0m \u001B[38;5;28;01mimport\u001B[39;00m \u001B[38;5;21;01mjax\u001B[39;00m\n\u001B[1;32m     19\u001B[0m \u001B[38;5;28;01mimport\u001B[39;00m \u001B[38;5;21;01mjax\u001B[39;00m\u001B[38;5;21;01m.\u001B[39;00m\u001B[38;5;21;01mnumpy\u001B[39;00m \u001B[38;5;28;01mas\u001B[39;00m \u001B[38;5;21;01mjnp\u001B[39;00m\n\u001B[1;32m     20\u001B[0m \u001B[38;5;28;01mimport\u001B[39;00m \u001B[38;5;21;01mnumpy\u001B[39;00m \u001B[38;5;28;01mas\u001B[39;00m \u001B[38;5;21;01mnp\u001B[39;00m\n",
      "File \u001B[0;32m~/opt/anaconda3/envs/torch/lib/python3.10/site-packages/jax/__init__.py:35\u001B[0m, in \u001B[0;36m<module>\u001B[0;34m\u001B[0m\n\u001B[1;32m     30\u001B[0m \u001B[38;5;28;01mdel\u001B[39;00m _cloud_tpu_init\n\u001B[1;32m     32\u001B[0m \u001B[38;5;66;03m# Confusingly there are two things named \"config\": the module and the class.\u001B[39;00m\n\u001B[1;32m     33\u001B[0m \u001B[38;5;66;03m# We want the exported object to be the class, so we first import the module\u001B[39;00m\n\u001B[1;32m     34\u001B[0m \u001B[38;5;66;03m# to make sure a later import doesn't overwrite the class.\u001B[39;00m\n\u001B[0;32m---> 35\u001B[0m \u001B[38;5;28;01mfrom\u001B[39;00m \u001B[38;5;21;01mjax\u001B[39;00m \u001B[38;5;28;01mimport\u001B[39;00m config \u001B[38;5;28;01mas\u001B[39;00m _config_module\n\u001B[1;32m     36\u001B[0m \u001B[38;5;28;01mdel\u001B[39;00m _config_module\n\u001B[1;32m     38\u001B[0m \u001B[38;5;28;01mfrom\u001B[39;00m \u001B[38;5;21;01mjax\u001B[39;00m\u001B[38;5;21;01m.\u001B[39;00m\u001B[38;5;21;01m_src\u001B[39;00m\u001B[38;5;21;01m.\u001B[39;00m\u001B[38;5;21;01mbasearray\u001B[39;00m \u001B[38;5;28;01mimport\u001B[39;00m Array \u001B[38;5;28;01mas\u001B[39;00m Array\n",
      "File \u001B[0;32m~/opt/anaconda3/envs/torch/lib/python3.10/site-packages/jax/config.py:17\u001B[0m, in \u001B[0;36m<module>\u001B[0;34m\u001B[0m\n\u001B[1;32m      1\u001B[0m \u001B[38;5;66;03m# Copyright 2018 The JAX Authors.\u001B[39;00m\n\u001B[1;32m      2\u001B[0m \u001B[38;5;66;03m#\u001B[39;00m\n\u001B[1;32m      3\u001B[0m \u001B[38;5;66;03m# Licensed under the Apache License, Version 2.0 (the \"License\");\u001B[39;00m\n\u001B[0;32m   (...)\u001B[0m\n\u001B[1;32m     14\u001B[0m \n\u001B[1;32m     15\u001B[0m \u001B[38;5;66;03m# TODO(phawkins): fix users of this alias and delete this file.\u001B[39;00m\n\u001B[0;32m---> 17\u001B[0m \u001B[38;5;28;01mfrom\u001B[39;00m \u001B[38;5;21;01mjax\u001B[39;00m\u001B[38;5;21;01m.\u001B[39;00m\u001B[38;5;21;01m_src\u001B[39;00m\u001B[38;5;21;01m.\u001B[39;00m\u001B[38;5;21;01mconfig\u001B[39;00m \u001B[38;5;28;01mimport\u001B[39;00m config\n",
      "File \u001B[0;32m~/opt/anaconda3/envs/torch/lib/python3.10/site-packages/jax/_src/config.py:29\u001B[0m, in \u001B[0;36m<module>\u001B[0;34m\u001B[0m\n\u001B[1;32m     25\u001B[0m \u001B[38;5;28;01mimport\u001B[39;00m \u001B[38;5;21;01mwarnings\u001B[39;00m\n\u001B[1;32m     27\u001B[0m \u001B[38;5;28;01mfrom\u001B[39;00m \u001B[38;5;21;01mabsl\u001B[39;00m \u001B[38;5;28;01mimport\u001B[39;00m logging\n\u001B[0;32m---> 29\u001B[0m \u001B[38;5;28;01mfrom\u001B[39;00m \u001B[38;5;21;01mjax\u001B[39;00m\u001B[38;5;21;01m.\u001B[39;00m\u001B[38;5;21;01m_src\u001B[39;00m \u001B[38;5;28;01mimport\u001B[39;00m lib\n\u001B[1;32m     30\u001B[0m \u001B[38;5;28;01mfrom\u001B[39;00m \u001B[38;5;21;01mjax\u001B[39;00m\u001B[38;5;21;01m.\u001B[39;00m\u001B[38;5;21;01m_src\u001B[39;00m\u001B[38;5;21;01m.\u001B[39;00m\u001B[38;5;21;01mlib\u001B[39;00m \u001B[38;5;28;01mimport\u001B[39;00m jax_jit\n\u001B[1;32m     31\u001B[0m \u001B[38;5;28;01mfrom\u001B[39;00m \u001B[38;5;21;01mjax\u001B[39;00m\u001B[38;5;21;01m.\u001B[39;00m\u001B[38;5;21;01m_src\u001B[39;00m\u001B[38;5;21;01m.\u001B[39;00m\u001B[38;5;21;01mlib\u001B[39;00m \u001B[38;5;28;01mimport\u001B[39;00m transfer_guard_lib\n",
      "File \u001B[0;32m~/opt/anaconda3/envs/torch/lib/python3.10/site-packages/jax/_src/lib/__init__.py:98\u001B[0m, in \u001B[0;36m<module>\u001B[0;34m\u001B[0m\n\u001B[1;32m     94\u001B[0m \u001B[38;5;66;03m# Before importing any C compiled modules from jaxlib, first import the CPU\u001B[39;00m\n\u001B[1;32m     95\u001B[0m \u001B[38;5;66;03m# feature guard module to verify that jaxlib was compiled in a way that only\u001B[39;00m\n\u001B[1;32m     96\u001B[0m \u001B[38;5;66;03m# uses instructions that are present on this machine.\u001B[39;00m\n\u001B[1;32m     97\u001B[0m \u001B[38;5;28;01mimport\u001B[39;00m \u001B[38;5;21;01mjaxlib\u001B[39;00m\u001B[38;5;21;01m.\u001B[39;00m\u001B[38;5;21;01mcpu_feature_guard\u001B[39;00m \u001B[38;5;28;01mas\u001B[39;00m \u001B[38;5;21;01mcpu_feature_guard\u001B[39;00m\n\u001B[0;32m---> 98\u001B[0m \u001B[43mcpu_feature_guard\u001B[49m\u001B[38;5;241;43m.\u001B[39;49m\u001B[43mcheck_cpu_features\u001B[49m\u001B[43m(\u001B[49m\u001B[43m)\u001B[49m\n\u001B[1;32m    100\u001B[0m \u001B[38;5;28;01mimport\u001B[39;00m \u001B[38;5;21;01mjaxlib\u001B[39;00m\u001B[38;5;21;01m.\u001B[39;00m\u001B[38;5;21;01mxla_client\u001B[39;00m \u001B[38;5;28;01mas\u001B[39;00m \u001B[38;5;21;01mxla_client\u001B[39;00m\n\u001B[1;32m    101\u001B[0m \u001B[38;5;28;01mimport\u001B[39;00m \u001B[38;5;21;01mjaxlib\u001B[39;00m\u001B[38;5;21;01m.\u001B[39;00m\u001B[38;5;21;01mlapack\u001B[39;00m \u001B[38;5;28;01mas\u001B[39;00m \u001B[38;5;21;01mlapack\u001B[39;00m\n",
      "\u001B[0;31mRuntimeError\u001B[0m: This version of jaxlib was built using AVX instructions, which your CPU and/or operating system do not support. You may be able work around this issue by building jaxlib from source."
     ]
    }
   ],
   "source": [
    "import optax\n",
    "import jax\n",
    "import jax.numpy as jnp\n",
    "import numpy as np\n",
    "import pandas as pd\n",
    "import plotnine as gg\n",
    "import random\n",
    "import scipy\n",
    "from scipy import stats\n",
    "from typing import Sequence\n",
    "\n",
    "import matplotlib.pyplot as plt\n",
    "import pylab\n",
    "from sklearn.linear_model import LogisticRegression\n",
    "from sympy.utilities.iterables import multiset_permutations\n",
    "\n",
    "colors = {0: 'b',\n",
    "          1: 'g',\n",
    "          2: 'r',\n",
    "          3: 'c',\n",
    "          4: 'm',\n",
    "          5: 'y'}"
   ]
  },
  {
   "cell_type": "markdown",
   "metadata": {
    "id": "ohjfF0qGy2qu"
   },
   "source": [
    "## Multi-item recommendation Environment\n",
    "\n",
    "A multi-item reccomendation environment "
   ]
  },
  {
   "cell_type": "code",
   "execution_count": null,
   "metadata": {
    "id": "BgaLWqQotdSK"
   },
   "outputs": [],
   "source": [
    "class MultiItemRecommendationEnv(object):\n",
    "  \"\"\"Environment representing a multi-item recommendation environment.\"\"\"\n",
    "\n",
    "  def __init__(self, num_item, num_slot, sigma_p=1.0):\n",
    "    self._num_item = num_item  # Total number of items that can be recommended\n",
    "    self._num_slot = num_slot  # Number of available sltos\n",
    "    self._sigma_p = sigma_p\n",
    "    self._rng = np.random.default_rng()\n",
    "    self.reset()\n",
    "\n",
    "  def reset(self, seed: int=None):\n",
    "    self._rng = np.random.default_rng(seed)\n",
    "    # reset the environment - will generate a new environment\n",
    "    self._theta = np.minimum(\n",
    "        self._rng.normal(size=self._num_item) * self._sigma_p - 1.0 * self._sigma_p,\n",
    "        0.0)\n",
    "\n",
    "  def _validate_action(self, action):\n",
    "    action = np.array(action)\n",
    "    assert len(action) == self._num_item, f'action has wrong dimension {len(action)}.'\n",
    "    return action\n",
    "\n",
    "  def step(self, action: Sequence[int]):\n",
    "    # select items to display based on the action\n",
    "    action = self._validate_action(action)\n",
    "    probs = self.compute_selection_probs(action)\n",
    "    return self._rng.choice(self._num_item + 1, p=probs)\n",
    "\n",
    "  def compute_selection_probs(self, action):\n",
    "    action = self._validate_action(action)\n",
    "    logits = self._theta * action\n",
    "    logits[action <= 0.0] = -np.inf  # Set the logit for non selected item to -Inf\n",
    "    logits = np.insert(logits, 0, 0.0)  # Add logits for the no-item-selected observation\n",
    "    probs = np.exp(logits) / np.sum(np.exp(logits))\n",
    "    return probs\n",
    "    \n"
   ]
  },
  {
   "cell_type": "markdown",
   "metadata": {
    "id": "EeI-q589zAhb"
   },
   "source": [
    "## Agent for multi-item recommendation"
   ]
  },
  {
   "cell_type": "markdown",
   "metadata": {
    "id": "wruhIqzbqD1_"
   },
   "source": [
    "### Optimization procedure"
   ]
  },
  {
   "cell_type": "code",
   "execution_count": null,
   "metadata": {
    "id": "V7TN2WLs9wcV"
   },
   "outputs": [],
   "source": [
    "\n",
    "def one_hot(indices, num_items: int):\n",
    "  \"\"\"Returns a one-hot encoding with shape [num_items+1, arr.size].\n",
    "  \"\"\"\n",
    "  indices = np.array(indices)\n",
    "  assert np.max(indices) <= num_items, \"Input indices overflow.\"\n",
    "  return np.eye(num_items+1)[indices].T\n",
    "\n",
    "\n",
    "class MLR(object):\n",
    "  \"\"\"Multinomial Logistic Regression.\n",
    "  \n",
    "  Internal variables:\n",
    "  _num_items: the number of items \n",
    "  _stepsize: the fixed constant stepsize in Newton's method\n",
    "  _num_samples: the number of data samples.\n",
    "  _action_history: np.ndarray with shape [_num_items, _num_samples], a binary\n",
    "      matrix containing the set of items presented to the user in each data \n",
    "      sample.  The first row of _action_history is always all-zero.\n",
    "  _observation_history: np.ndarray with shape [_num_items, _num_samples], each \n",
    "      column is a one-hot vector representing the item chosen by the user.  The\n",
    "      zeroth item is the empty item.\n",
    "  _sigma_p_squared: the regularization hyperparameter.\n",
    "  _theta: the current parameters.\n",
    "  \"\"\"\n",
    "\n",
    "  def __init__(\n",
    "      self,\n",
    "      num_items: int, # total number of items to display to customer \n",
    "      sigma_p_squared: float = 1.0,\n",
    "      stepsize: float = 0.75,\n",
    "  ):\n",
    "    self._num_items = num_items \n",
    "    self._stepsize = stepsize\n",
    "    self._num_samples = 0\n",
    "    self._action_history = np.zeros((self._num_items+1, 0))\n",
    "    self._observation_history = np.zeros((self._num_items+1, 0)) \n",
    "    self._sigma_p_squared = sigma_p_squared\n",
    "    self._theta = np.zeros((self._num_items,))\n",
    "\n",
    "    # An all-zero vector is added to the first column of item_embeddings to \n",
    "    # represent the zero (empty) item.\n",
    "    self._item_embeddings = np.concatenate(\n",
    "        (np.zeros((num_items, 1)), np.eye(num_items)), axis=1)\n",
    "\n",
    "  @property \n",
    "  def coef_(self):\n",
    "    return self._theta\n",
    "  \n",
    "  @property \n",
    "  def stepsize(self):\n",
    "    return self._stepsize\n",
    "  \n",
    "  @stepsize.setter\n",
    "  def stepsize(self, new_stepsize: float):\n",
    "    self._stepsize = new_stepsize \n",
    "\n",
    "  def value_gradient_hessian(self):\n",
    "\n",
    "    # probabilities\n",
    "    exp_item_logits = np.exp(np.dot(self._item_embeddings.T, self._theta))\n",
    "    prob = np.expand_dims(exp_item_logits, axis=1) * self._action_history\n",
    "    prob /= np.sum(prob, axis=0, keepdims=True)\n",
    "\n",
    "    # value\n",
    "    value = 0.5 / self._sigma_p_squared * np.sum(np.square(self._theta))\n",
    "    item_logits = np.dot(self._item_embeddings.T, self._theta)\n",
    "    value -= np.sum(np.dot(self._observation_history.T, item_logits))\n",
    "    value += np.sum(np.log(np.dot(exp_item_logits,\n",
    "                                  self._action_history)))\n",
    "\n",
    "    # gradient of log-likelihood\n",
    "    grad = self._theta / self._sigma_p_squared\n",
    "    grad -= np.sum(np.dot(self._item_embeddings, self._observation_history), axis=-1)\n",
    "    grad += np.sum(np.dot(self._item_embeddings, prob), axis=-1)\n",
    "    \n",
    "    # hessian of log-likelihood\n",
    "    hess = np.eye(self._num_items) / self._sigma_p_squared\n",
    "    prob_feat = np.dot(self._item_embeddings, prob)\n",
    "    hess -= np.dot(prob_feat, prob_feat.T) \n",
    "    feat_prob_feat = np.expand_dims(self._item_embeddings, axis=-1\n",
    "                                    ) * np.expand_dims(prob, axis=0)\n",
    "    feat_prob_feat = np.tensordot(feat_prob_feat, self._item_embeddings, [[1], [1]])\n",
    "    hess += np.sum(feat_prob_feat, axis=1)\n",
    "    return value, grad, hess\n",
    "\n",
    "  def fit(self, actions=None, observations=None, num_newton_steps=10, verbose=False):\n",
    "    if actions is not None:\n",
    "      num_new_samples = actions.shape[1]\n",
    "      actions = np.r_[np.ones((1, num_new_samples)), actions]\n",
    "      self._action_history = actions\n",
    "    if observations is not None:\n",
    "      self._observation_history = one_hot(observations, self._num_items)\n",
    "    for _ in range(num_newton_steps):\n",
    "      loss, grad, hess = self.value_gradient_hessian()\n",
    "      self._theta -= self._stepsize * np.dot(np.linalg.inv(hess), grad)\n",
    "      if verbose:\n",
    "        print('loss:', loss, 'grad:', grad, 'hessian:', hess)\n",
    "    return self._theta"
   ]
  },
  {
   "cell_type": "markdown",
   "metadata": {
    "id": "oidcgSzSqKDY"
   },
   "source": [
    "### Helpful functions (**You need to change the code over here**)"
   ]
  },
  {
   "cell_type": "code",
   "execution_count": null,
   "metadata": {
    "id": "ArpBdWtX8Uwl"
   },
   "outputs": [],
   "source": [
    "# Constructing an agent which can learn only from the reward or from all the observations\n",
    "\n",
    "def choose_optimal_assortment_for_num_slots(theta, num_slot, rng=None):\n",
    "  if rng is None:\n",
    "    rng = np.random.default_rng()\n",
    "  num_item = len(theta)\n",
    "  theta_sorted_idx = np.argsort(-theta)\n",
    "  theta_thr = theta[theta_sorted_idx[num_slot - 1]]\n",
    "  theta_thr_idx = np.nonzero(theta == theta_thr)[0]\n",
    "  theta_opt_idx = np.setdiff1d(theta_sorted_idx[:num_slot], theta_thr_idx, True)\n",
    "  theta_opt_idx = np.concatenate((\n",
    "      theta_opt_idx,\n",
    "      rng.choice(theta_thr_idx, size=num_slot - len(theta_opt_idx), replace=False)))\n",
    "  selected_items = np.zeros(num_item)\n",
    "  selected_items[theta_opt_idx] = 1\n",
    "  return selected_items\n",
    "\n",
    "def select_opt_num_slots(theta, max_num_slot, cost_per_slot):\n",
    "  ############### Start of Code Modification ################################\n",
    "  ### Please implement to choose the optimal number of slots here\n",
    "  ###########################################################################\n",
    "\n",
    "  optimal_num_slots = ...\n",
    "  return optimal_num_slots\n",
    "  \n",
    "  ################### End of Code Modification ##############################\n",
    "\n",
    "def choose_optimal_assortment(theta, max_num_slot, rng=None, cost_per_slot:float=0):\n",
    "  opt_num_slots = select_opt_num_slots(theta, max_num_slot, cost_per_slot)\n",
    "  return choose_optimal_assortment_for_num_slots(theta, opt_num_slots, rng)\n",
    "\n"
   ]
  },
  {
   "cell_type": "markdown",
   "metadata": {
    "id": "3VeJleSFqTSG"
   },
   "source": [
    "### Laplace agent which learns from observations"
   ]
  },
  {
   "cell_type": "code",
   "execution_count": null,
   "metadata": {
    "id": "YgHfRS3oqWkT"
   },
   "outputs": [],
   "source": [
    "'''\n",
    "This function computes the inverse Hessian matrix of the loss function\n",
    "theta.shape = (dim)\n",
    "X.shape = (num_samples, dim)\n",
    "'''\n",
    "def get_hessian(theta, X, sigma_p_squared):\n",
    "\n",
    "  H = np.eye(len(theta))/sigma_p_squared\n",
    "\n",
    "  if X.shape[0] > 0:\n",
    "    logits = np.dot(X, theta)\n",
    "    tmp = np.exp(logits); y_pred = np.divide(tmp, 1+tmp)\n",
    "    D = np.expand_dims(np.multiply(y_pred, 1-y_pred), axis=-1)\n",
    "    H += X.T @ (D * X)\n",
    "\n",
    "  return H\n",
    "\n",
    "\n",
    "\n",
    "class LaplaceAgentLearnFromObs:\n",
    "  \"\"\"Agent based on Laplace approximation.\"\"\"\n",
    "\n",
    "  def __init__(self, num_item: int, num_slot: int, sigma_p_squared: float,\n",
    "               cost_per_slot: float,\n",
    "               ):\n",
    "    self._num_item = num_item  # Total number of items that can be recommended\n",
    "    self._num_slot = num_slot  # Number of available sltos\n",
    "    self._sigma_p_squared = sigma_p_squared\n",
    "    self._num_obs_category = num_item + 1\n",
    "    self._cost_per_slot = cost_per_slot\n",
    "    self.reward_fn = lambda obs, act: float(obs > 0.0) - self._cost_per_slot*np.sum(act)\n",
    "    self.reset()\n",
    "\n",
    "   \n",
    "  def reset(self, seed:int = None):\n",
    "    self._theta_mu = np.zeros(self._num_item)\n",
    "    self._theta_sigma = None  \n",
    "    self._initialization_phase = True\n",
    "    self._action_history = np.array([])\n",
    "    self._observation_history = np.array([])\n",
    "\n",
    "\n",
    "    self._rng = np.random.default_rng(seed)\n",
    "    self._solver = MLR(num_items=self._num_item,\n",
    "                        sigma_p_squared=self._sigma_p_squared)\n",
    " \n",
    "  def select_action(self, verbose=False):\n",
    "    \"\"\"Select an action.\"\"\"\n",
    "     # if in the initialization phase, choose a random action\n",
    "    if self._initialization_phase:\n",
    "      canonical_action = np.concatenate((\n",
    "          np.ones(self._num_slot), np.zeros(self._num_item - self._num_slot)))\n",
    "      action = self._rng.permutation(canonical_action)\n",
    "    else:\n",
    "      theta = self._sample_theta()\n",
    "      # choose action based on sampled theta\n",
    "      action = choose_optimal_assortment(theta, self._num_slot, self._rng,\n",
    "                                         self._cost_per_slot)\n",
    "\n",
    "    if verbose and (t+1)%100==0:\n",
    "      print(f\"Laplace Agent: selected action {action}\")\n",
    "\n",
    "    # check if we have observations with all possible obesrvations\n",
    "    if (self._initialization_phase and\n",
    "        len(np.unique(self._observation_history)) >= self._num_item + 1):\n",
    "       self._initialization_phase = False\n",
    "\n",
    "    return action\n",
    "\n",
    "  def _sample_theta(self):\n",
    "    assert self._theta_mu is not None and self._theta_sigma is not None\n",
    "    theta = self._rng.multivariate_normal(\n",
    "        self._theta_mu,\n",
    "        self._theta_sigma,\n",
    "        tol=1e-5)\n",
    "    return theta\n",
    "\n",
    "  def update(self, action: np.array, observation: int):\n",
    "    if not (self._action_history.size > 0 and self._observation_history.size > 0):\n",
    "      self._action_history = np.expand_dims(action, axis=0)\n",
    "      self._observation_history = np.expand_dims(observation, axis=0)\n",
    "    else:\n",
    "      self._action_history = np.concatenate((self._action_history, action[None, ...]), axis=0)\n",
    "      self._observation_history = np.concatenate((self._observation_history, [observation]), axis=0)\n",
    "    if not self._initialization_phase:\n",
    "\n",
    "      self._theta_mu = self._solver.fit(self._action_history.T, self._observation_history.T)\n",
    "      # compute the inverse Hessian matrix\n",
    "      _, _, hess = self._solver.value_gradient_hessian()\n",
    "      self._theta_sigma = np.linalg.inv(hess + 1e-5 * np.eye(hess.shape[0]))\n"
   ]
  },
  {
   "cell_type": "markdown",
   "metadata": {
    "id": "WT_esDdRzDr8"
   },
   "source": [
    "## Experiment class \n",
    "\n",
    "This helps us to conduct experiments "
   ]
  },
  {
   "cell_type": "code",
   "execution_count": null,
   "metadata": {
    "id": "sjiEI4JuzFo7"
   },
   "outputs": [],
   "source": [
    "def plot_regret(result, timestep_res=50):\n",
    "  cols = ['reward', 'regret', 'cumulative_regret']\n",
    "  df_grp = result.groupby('step')[cols]\n",
    "  df = pd.concat([\n",
    "      df_grp.mean().rename(lambda c: c + '_mean', axis=1),\n",
    "      df_grp.sem().rename(lambda c: c + '_sem', axis=1)],\n",
    "      axis=1).reset_index()\n",
    "  for c in cols:\n",
    "    df[c + '_lbdd'] = df[c + '_mean'] - 2 * df[c + '_sem']\n",
    "    df[c + '_ubdd'] = df[c + '_mean'] + 2 * df[c + '_sem']\n",
    "\n",
    "  p = (\n",
    "      gg.ggplot(df[df.step % timestep_res == 0],\n",
    "                gg.aes(x='step', y='cumulative_regret_mean'))\n",
    "      + gg.geom_line()\n",
    "      + gg.geom_errorbar(gg.aes(ymin='cumulative_regret_lbdd',\n",
    "                                ymax='cumulative_regret_ubdd'))\n",
    "      + gg.xlab('Time')\n",
    "      + gg.ylab('Cumulative regret')\n",
    "  )\n",
    "  return p\n",
    "\n",
    "class Experiment(object):\n",
    "\n",
    "  def __init__(self, agent, environment):\n",
    "    \"\"\"\n",
    "    Args:\n",
    "      agent: The agent to train and evaluate.\n",
    "      environment: The environment to train on.\n",
    "    \"\"\"\n",
    "    self._agent = agent\n",
    "    self._env = environment\n",
    "    # self._contextual = contextual \n",
    "    self._result_df = None\n",
    "\n",
    "  def run(self, seeds: Sequence[int], time_horizon: int, verbose: bool = True) -> None:\n",
    "    \"\"\"Runs an agent on an environment.\n",
    "    Args:\n",
    "      time_horizon: Number of steps in each trial.\n",
    "      num_simulation: Number of simulations to run.\n",
    "      verbose: Whether to also log to terminal.\n",
    "    \"\"\"\n",
    "\n",
    "    results = []\n",
    "    for sidx, seed in enumerate(seeds):\n",
    "      print(f'Running simulation {sidx}')\n",
    "      self._env.reset(seed)\n",
    "      self._agent.reset(seed)\n",
    "      cumulative_regret = 0.\n",
    "\n",
    "      action = choose_optimal_assortment(self._env._theta, self._agent._num_slot,\n",
    "                                         self._agent._rng, self._agent._cost_per_slot)\n",
    "      optimal_reward = max(1.0 - self._env.compute_selection_probs(action)[0] \\\n",
    "                           - self._agent._cost_per_slot*np.sum(action), 0)\n",
    "\n",
    "      for tidx in range(time_horizon):\n",
    "        # Generate an action from the agent's policy.\n",
    "      \n",
    "        action = self._agent.select_action()\n",
    "        update_args = ()\n",
    "        # Step the environment.\n",
    "        obs = self._env.step(action)\n",
    "        expected_reward = max(1.0 - self._env.compute_selection_probs(action)[0] \\\n",
    "                              - self._agent._cost_per_slot*np.sum(action), 0)\n",
    "        reward = self._agent.reward_fn(obs, action)\n",
    "        # Update the agent\n",
    "        update_args += (action, obs)\n",
    "        self._agent.update(*update_args)\n",
    "  \n",
    "        # Book keeping\n",
    "        regret = optimal_reward - expected_reward\n",
    "        cumulative_regret += regret\n",
    "        if verbose and tidx % 100 == 0:\n",
    "          regret_stats = {\n",
    "              'instance regret': regret, \n",
    "              'cumulative': cumulative_regret,\n",
    "              'per_step regret': cumulative_regret / (tidx + 1)}\n",
    "          print(f'regret at step {tidx}: {regret_stats}')\n",
    "  \n",
    "        results.append((sidx, tidx, reward, regret, cumulative_regret))\n",
    "    self._result = pd.DataFrame(\n",
    "        results, \n",
    "        columns=['trial', 'step', 'reward', 'regret', 'cumulative_regret'])\n",
    "    return self._result"
   ]
  },
  {
   "cell_type": "markdown",
   "metadata": {
    "id": "Isnruv5gaMPk"
   },
   "source": [
    "## Running the experiment "
   ]
  },
  {
   "cell_type": "code",
   "execution_count": null,
   "metadata": {
    "id": "r9AHOZu22yfF"
   },
   "outputs": [],
   "source": [
    "num_item = 10\n",
    "sigma_p_squared = 1.0 \n",
    "num_slot = 5\n",
    "\n",
    "num_simulations = 5\n",
    "horizon = 1001"
   ]
  },
  {
   "cell_type": "code",
   "execution_count": null,
   "metadata": {
    "id": "1xG_kFcYjppy"
   },
   "outputs": [],
   "source": [
    "plt.figure(num_slot)\n",
    "plt.clf()\n",
    "\n",
    "for cost_per_slot in [0.02, 0.1]:\n",
    "  learn_from_reward = False\n",
    "  print('running simulation for number of slots = '+str(num_slot) \n",
    "                        + ' cost per slot = '+str(cost_per_slot))\n",
    "  env = MultiItemRecommendationEnv(num_item, num_slot, sigma_p=np.sqrt(sigma_p_squared))\n",
    "  agent = LaplaceAgentLearnFromObs(num_item, num_slot, sigma_p_squared,\n",
    "                       cost_per_slot=cost_per_slot,\n",
    "                       )\n",
    "  experiment = Experiment(agent, env)\n",
    "  result_obs = experiment.run(range(num_simulations), horizon, verbose=False)\n",
    "  plot_regret(result_obs, timestep_res=50)\n",
    "\n",
    "  res_obs_summary = result_obs.groupby('step').mean()\n",
    "  # colors = ['r', 'g', 'b']\n",
    "\n",
    "  plt.plot(res_obs_summary.index, res_obs_summary.cumulative_regret, # color=colors[1],\\\n",
    "          linestyle='-', linewidth=2, \\\n",
    "          label=f'learning from observation cost per slot: '+str(cost_per_slot))\n",
    "\n",
    "plt.legend(loc=\"best\", fontsize=9)\n",
    "plt.xlabel(\"$t$\", fontsize=14)\n",
    "plt.ylabel(\"cumulative regret\", fontsize=14)\n",
    "plt.title(f'N={num_item}, K={num_slot}')"
   ]
  },
  {
   "cell_type": "markdown",
   "metadata": {
    "id": "_-oXqGLrHG44"
   },
   "source": [
    "# Question 5: Alternatives to maximizing information gain from practice exam"
   ]
  },
  {
   "cell_type": "markdown",
   "metadata": {
    "id": "treEnd7mH8I8"
   },
   "source": [
    "## Environment"
   ]
  },
  {
   "cell_type": "code",
   "execution_count": null,
   "metadata": {
    "id": "dqFyvKu3NYLG"
   },
   "outputs": [],
   "source": [
    "import jax\n",
    "import numpy as np\n",
    "import pandas as pd\n",
    "import plotnine as gg\n",
    "import random\n",
    "import scipy\n",
    "from scipy import stats\n",
    "import time\n",
    "from typing import Callable, Sequence\n",
    "\n",
    "import matplotlib.pyplot as plt\n",
    "import pylab\n",
    "from sklearn.linear_model import LogisticRegression\n",
    "\n",
    "from google.colab import files\n",
    "\n",
    "colors = {0: 'b',\n",
    "          1: 'g',\n",
    "          2: 'r',\n",
    "          3: 'c',\n",
    "          4: 'm',\n",
    "          5: 'y'}"
   ]
  },
  {
   "cell_type": "code",
   "execution_count": null,
   "metadata": {
    "id": "rf0FAGdvHQze"
   },
   "outputs": [],
   "source": [
    "class MultipleLogisticEnv(object):\n",
    "  \"\"\"Environment representing a logistic model with multiple concurrent binary outputs.\"\"\"\n",
    "\n",
    "  def __init__(self, action_feature_dim: int, embedding_dim: int, output_dim: int, num_action: int, sigma_p: float = 1.0):\n",
    "    self._action_feature_dim = action_feature_dim\n",
    "    self._embedding_dim = embedding_dim\n",
    "    self._output_dim = output_dim\n",
    "    self._num_action = num_action\n",
    "    self._sigma_p = sigma_p\n",
    "    self._theta = None\n",
    "    self.output_features = None \n",
    "    self.action_features = None \n",
    "\n",
    "  def reset(self, seed: int):\n",
    "    self._rng = np.random.default_rng(seed)\n",
    "    self._theta = self._sigma_p * self._rng.normal(size=(self._action_feature_dim - 1, self._embedding_dim))\n",
    "    self._theta = np.r_[self._theta, -np.ones((1, self._embedding_dim))]\n",
    "    self.output_features = np.abs(self._rng.normal(size=(self._embedding_dim, self._output_dim)))\n",
    "    self.action_features = self._rng.normal(size=(self._action_feature_dim - 1, self._num_action))\n",
    "    self.action_features /= np.linalg.norm(self.action_features, axis=0, keepdims=True)\n",
    "    self.action_features = np.r_[self.action_features, np.ones((1, self._num_action))]\n",
    "\n",
    "  def _validate_action(self, action):\n",
    "    curriculum_idx, practice_idx = action\n",
    "    assert 0 <= curriculum_idx and curriculum_idx < self._num_action\n",
    "    assert 1 <= practice_idx and practice_idx < self._output_dim, 'practice_idx:{}'.format(practice_idx)# practice idx cannot be 0 since that is the official exam.\n",
    "    assert self.action_features is not None, 'Please first reset the environment.'\n",
    "    return curriculum_idx, practice_idx\n",
    "\n",
    "  def step(self, action: np.ndarray):\n",
    "    probs = self.compute_output_probs(action)\n",
    "    return (self._rng.random(len(probs)) <= probs).astype(np.float32)\n",
    "\n",
    "  def compute_output_probs(self, action):\n",
    "    curriculum_idx, practice_idx = self._validate_action(action)\n",
    "    action_feature = self.action_features[:, curriculum_idx]\n",
    "    embedding = action_feature.T @ self._theta\n",
    "    logits = embedding @ self.output_features[:, [0, practice_idx]]\n",
    "    exp_logits = np.exp(logits)\n",
    "    probs = exp_logits / (1 + exp_logits)\n",
    "    return probs\n"
   ]
  },
  {
   "cell_type": "markdown",
   "metadata": {
    "id": "Vjtnp-zWHQzk"
   },
   "source": [
    "##Agent"
   ]
  },
  {
   "cell_type": "markdown",
   "metadata": {
    "id": "d6CSX87aaPzI"
   },
   "source": [
    "### Some utilities for the agent"
   ]
  },
  {
   "cell_type": "code",
   "execution_count": null,
   "metadata": {
    "id": "4qQAX0NZaNem"
   },
   "outputs": [],
   "source": [
    "'''\n",
    "This function computes the Hessian matrix of the loss function\n",
    "theta.shape = (dim)\n",
    "X.shape = (num_samples, dim)\n",
    "'''\n",
    "def get_hessian(theta, X, sigma_p_squared):\n",
    "\n",
    "  H = np.eye(len(theta))/sigma_p_squared\n",
    "\n",
    "  if X.shape[0] > 0:\n",
    "    logits = np.dot(X, theta)\n",
    "    tmp = np.exp(logits); y_pred = np.divide(tmp, 1+tmp)\n",
    "    D = np.expand_dims(np.multiply(y_pred, 1-y_pred), axis=-1)\n",
    "    H += X.T @ (D * X)\n",
    "\n",
    "  return H\n",
    "\n",
    "\n",
    "def get_inv_hessian(theta, X, sigma_p_squared):\n",
    "\n",
    "  H = get_hessian(theta, X, sigma_p_squared)\n",
    "  return np.linalg.inv(H)\n",
    "\n",
    "\n",
    "def choose_optimal_action(rng: np.random.Generator, scores: np.ndarray):\n",
    "  assert scores.ndim == 1, 'scores should be 1D array.'\n",
    "  # choose action based on sampled theta\n",
    "  num_action = len(scores)\n",
    "  optimal_actions = np.arange(num_action)[scores == scores.max()]\n",
    "  action = rng.choice(optimal_actions)\n",
    "  return action\n",
    " \n",
    "def get_expected_regret(rng, theta_mu, theta_sigma, action_features_reward):\n",
    "  theta = rng.multivariate_normal(\n",
    "      theta_mu,\n",
    "      theta_sigma,\n",
    "      size=10,\n",
    "      tol=1e-5).T\n",
    "  exp_logits = np.exp(action_features_reward.T @ theta)  # shape=(num_action, num_smaple)\n",
    "  probs = exp_logits / (1.0 + exp_logits)\n",
    "  regrets = probs.max(axis=0, keepdims=True) - probs\n",
    "  return regrets.mean(axis=1)\n"
   ]
  },
  {
   "cell_type": "markdown",
   "metadata": {
    "id": "bkBj22-TadyO"
   },
   "source": [
    "### Agent based on Laplace Approximation"
   ]
  },
  {
   "cell_type": "code",
   "execution_count": null,
   "metadata": {
    "id": "lhnuDnYeHQzr"
   },
   "outputs": [],
   "source": [
    "class LaplaceAgent:\n",
    "  \"\"\"Agent based on Laplace approximation.\"\"\"\n",
    "\n",
    "  def __init__(self, action_selection_fn: Callable, sigma_p_squared: float):\n",
    "               # learn_from_reward: bool = True):\n",
    "    self._action_selection_fn = action_selection_fn\n",
    "    self._sigma_p_squared = sigma_p_squared\n",
    "\n",
    "  def reset(self, seed, action_features: np.ndarray, output_features: np.ndarray):\n",
    "    self._rng = np.random.default_rng(seed)\n",
    "    self._embedding_dim, self._output_dim = output_features.shape\n",
    "    self._action_features_raw = action_features\n",
    "    self._action_feature_dim_raw, self._num_action = action_features.shape\n",
    "    self._action_feature_dim = self._action_feature_dim_raw * self._embedding_dim\n",
    "    self._output_features = output_features\n",
    "\n",
    "    self._action_features = np.stack([\n",
    "        np.kron(np.eye(self._embedding_dim), self._action_features_raw[:, idx]).T @ self._output_features\n",
    "        for idx in range(self._num_action)], axis=-1)\n",
    "    assert self._action_features.shape == (\n",
    "        self._action_feature_dim,\n",
    "        self._output_dim,\n",
    "        self._num_action)\n",
    "\n",
    "    self._theta_mu = np.zeros(self._action_feature_dim)\n",
    "    self._initialization_phase = True\n",
    "    self._action_feature_history = np.array([])\n",
    "    self._observation_history = np.array([])\n",
    "\n",
    "    self._solver = LogisticRegression(penalty='l2', \n",
    "                                      C=2*self._sigma_p_squared,\n",
    "                                      fit_intercept=False,\n",
    "                                      warm_start=True,\n",
    "                                      max_iter=500)\n",
    " \n",
    "  @property\n",
    "  def action_features(self):\n",
    "    return self._action_features_raw\n",
    "    \n",
    "  @property\n",
    "  def theta_mean_covar(self):\n",
    "    theta_sigma = get_inv_hessian(self._theta_mu, self._action_feature_history, self._sigma_p_squared)\n",
    "    return self._theta_mu, theta_sigma\n",
    "\n",
    "  def select_action(self, verbose=False):\n",
    "    \"\"\"Select an action.\"\"\"\n",
    "     # if in the initialization phase, choose a random action\n",
    "    if self._initialization_phase:\n",
    "      curriculum_idx = self._rng.integers(self._num_action)\n",
    "      practice_idx = self._rng.integers(1, self._output_dim)\n",
    "      action = curriculum_idx, practice_idx\n",
    "    else:\n",
    "      action = self._action_selection_fn(\n",
    "          self._rng,\n",
    "          self._theta_mu,\n",
    "          self._action_features,\n",
    "          self._action_feature_history,\n",
    "          self._sigma_p_squared,\n",
    "          self._output_features)\n",
    "      \n",
    "    if verbose and (t+1)%100==0:\n",
    "      print(f\"Laplace Agent: selected action {action}\")\n",
    "\n",
    "    # check if we have observations with all possible obesrvations\n",
    "    if self._initialization_phase and self._observation_history.size > 0:\n",
    "      if len(np.unique(self._observation_history)) >= 2:\n",
    "        self._initialization_phase = False\n",
    "\n",
    "    return action\n",
    "\n",
    "  def update(self, action: np.array, observation: int):\n",
    "    curriculum_idx, practice_idx = action\n",
    "    action_feature = self._action_features[:, [0, practice_idx], curriculum_idx].T\n",
    "    if not (self._action_feature_history.size > 0 and self._observation_history.size > 0):\n",
    "      self._action_feature_history = action_feature\n",
    "      self._observation_history = np.expand_dims(observation, axis=0)\n",
    "    else:\n",
    "      self._action_feature_history = np.concatenate(\n",
    "          # action_feature already has a batch dim.\n",
    "          (self._action_feature_history, action_feature), axis=0)\n",
    "      self._observation_history = np.concatenate(\n",
    "          (self._observation_history, observation[None, ...]), axis=0)\n",
    "    if not self._initialization_phase:\n",
    "      targets = self._observation_history.flatten()  # flatten is row-major by default.\n",
    "\n",
    "      self._solver.fit(self._action_feature_history, targets)\n",
    "      self._theta_mu = np.squeeze(self._solver.coef_)\n",
    "\n"
   ]
  },
  {
   "cell_type": "code",
   "execution_count": null,
   "metadata": {
    "id": "Nq4W_r1GbrRn"
   },
   "outputs": [],
   "source": [
    "def ts_action_selection(\n",
    "    rng: np.random.Generator,\n",
    "    theta_mu: np.ndarray,\n",
    "    action_features: np.ndarray,\n",
    "    action_feature_history: np.ndarray,\n",
    "    sigma_p_squared: float,\n",
    "    output_features: np.ndarray = None):\n",
    "  num_practice = action_features.shape[1] - 1\n",
    "  theta_sigma = get_inv_hessian(theta_mu, action_feature_history, sigma_p_squared)\n",
    "  assert theta_mu is not None\n",
    "  theta = rng.multivariate_normal(\n",
    "      theta_mu,\n",
    "      theta_sigma,\n",
    "      tol=1e-5)\n",
    "  # choose action based on sampled theta\n",
    "  logits = action_features[:, 0, :].T @ theta\n",
    "  curriculum_idx = choose_optimal_action(rng, logits)\n",
    "  practice_idx = rng.integers(1, num_practice)\n",
    "  return curriculum_idx, practice_idx \n",
    "\n",
    "def get_diff_entropy(hessian: np.ndarray):\n",
    "  \"\"\"Computes the expected entropy given theta and negative log posterior hessian.\"\"\"\n",
    "  ld_sign, log_det_hessian = np.linalg.slogdet(hessian)\n",
    "  assert ld_sign >= 0, 'Hessian is not positive semidefinite.'\n",
    "  n = hessian.shape[0]\n",
    "  dentropy = 0.5 * (n * np.log(2 * np.pi * np.e) - log_det_hessian)\n",
    "  return dentropy\n",
    "\n",
    "def get_entropy_reduction(theta_mu, action_features, action_feature_history, sigma_p_squared):\n",
    "    num_action = action_features.shape[-1]\n",
    "    hessian = get_hessian(theta_mu, action_feature_history, sigma_p_squared)\n",
    "    diff_entropy = get_diff_entropy(hessian)\n",
    "    hessian_tp1 = [get_hessian(\n",
    "        theta_mu,\n",
    "        np.r_[action_feature_history, action_features.T[[aidx], :]],\n",
    "        sigma_p_squared)\n",
    "        for aidx in range(num_action)]\n",
    "    diff_entropy_tp1 = np.array([get_diff_entropy(h) for h in hessian_tp1])\n",
    "    entropy_reduction = diff_entropy - diff_entropy_tp1\n",
    "    return entropy_reduction\n",
    "\n",
    "\n",
    "def tswis_action_selection(\n",
    "    rng: np.random.Generator,\n",
    "    theta_mu: np.ndarray,\n",
    "    action_features: np.ndarray,\n",
    "    action_feature_history: np.ndarray,\n",
    "    sigma_p_squared: float,\n",
    "    output_features: np.ndarray):\n",
    "  \"\"\"Thompsong sampling with information seeking for the practice exam.\"\"\"\n",
    "  \n",
    "  # Select the curriculum first based on optimal choice for the exam.\n",
    "  curriculum_idx, _ = ts_action_selection(\n",
    "    rng,\n",
    "    theta_mu,\n",
    "    action_features,\n",
    "    action_feature_history,\n",
    "    sigma_p_squared)\n",
    "    \n",
    "  # Then select practice exam wich maximizes information gain given curriculum_idx\n",
    "  assert theta_mu is not None\n",
    "  action_features_practice = action_features[:, 1:, curriculum_idx]\n",
    "  entropy_reductions = get_entropy_reduction(\n",
    "      theta_mu, action_features_practice, action_feature_history, sigma_p_squared) \n",
    "  practice_idx = choose_optimal_action(rng, entropy_reductions) + 1 \n",
    "  return curriculum_idx, practice_idx\n"
   ]
  },
  {
   "cell_type": "markdown",
   "metadata": {
    "id": "okHYxdBxyDDx"
   },
   "source": [
    "## PLEASE READ\n",
    "\n",
    "recall from lecture 8 that we introduced a linear form for the observation probability $$\\Pr[O_{t+1, m} = 1| H_t, A_t, \\mathcal{E}] = {\\tt logistic} (\\psi_m^\\top (I \\otimes \\phi_{a_t}) {\\tt vec}(\\theta))$$. In the part of the code that you will be modifying we already did this transformation for you. \n",
    "\n",
    "1. `theta` in this part represents the vectorized for of ${\\tt vec}(\\theta)$. \n",
    "Hence `len(theta)` is equal to number of subjects * curriculum dimension, i.e., $K*d$. `theta_mu` is the estimated mean of this vectorized theta, and `theta_sigma` is the estimated covariance of the vectorized theta.\n",
    "2. `output_features` represents the concatenation of official exam feature and practice exam features $[\\psi_0, \\psi_{1:M}]$. Hence its shape is (number of subjects, number of practice exams + 1), i.e., $(K, M+1)$.\n",
    "3. `action_features` represents the concatenation of the transformed curricula features $\\psi_m^\\top (I \\otimes \\phi_{a}) {\\tt vec}(\\theta)$ along two axes corresponding to $m$ and $a$. Hence, it's shape is (number of subjects * curriculum dimension, number of practice exams +1, number of curricula), i.e., $(K*d, M+1, N)$.\n",
    "\n",
    "Note that in our notation all vectors are assumed column vector.\n",
    "\n",
    "In this form `action_features[:, m, a].T @ theta` represents $\\psi_m^\\top (I \\otimes \\phi_{a}) {\\tt vec}(\\theta)$ which can be used compute $$\\Pr[O_{t+1, m} = 1| H_t, A_t, \\mathcal{E}] = {\\tt logistic} (\\psi_m^\\top (I \\otimes \\phi_{a_t}) {\\tt vec}(\\theta))$$"
   ]
  },
  {
   "cell_type": "markdown",
   "metadata": {
    "id": "F9VwSniYGegU"
   },
   "source": [
    "###Thompson sampling with expected practice exam score maximization (**add your code here**)"
   ]
  },
  {
   "cell_type": "code",
   "execution_count": null,
   "metadata": {
    "id": "DixsCTvSGdaV"
   },
   "outputs": [],
   "source": [
    "def ts_with_practice_score_maximization(\n",
    "    rng: np.random.Generator,\n",
    "    theta_mu: np.ndarray,\n",
    "    action_features: np.ndarray,\n",
    "    action_feature_history: np.ndarray,\n",
    "    sigma_p_squared: float,\n",
    "    output_features: np.ndarray):\n",
    "  \"\"\"Thompsong sampling withaction_features practice exam score maximization.\"\"\"\n",
    "  \n",
    "  # Select the curriculum first based on optimal choice for the exam.\n",
    "  theta_sigma = get_inv_hessian(theta_mu, action_feature_history, sigma_p_squared)\n",
    "  assert theta_mu is not None\n",
    "  theta = rng.multivariate_normal(\n",
    "      theta_mu,\n",
    "      theta_sigma,\n",
    "      tol=1e-5)\n",
    "  # choose action based on sampled theta\n",
    "  logits = action_features[:, 0, :].T @ theta\n",
    "  curriculum_idx = choose_optimal_action(rng, logits)  \n",
    "  # Then select practice wich maximizes expected practice exam score given curriculum_idx\n",
    "  action_features_practice = action_features[:, 1:, curriculum_idx]\n",
    "  # Note that practice exams features start from index 1 (official exam is index 0).\n",
    " \n",
    "  ############### Start of Code Modification ################################\n",
    "  ### Please implement practice exam selection that chooses exam with highest\n",
    "  ### expected score.\n",
    "  ###########################################################################\n",
    "\n",
    "  practice_idx = ...\n",
    "  ################### End of Code Modification ##############################\n",
    "  \n",
    "  return curriculum_idx, practice_idx\n"
   ]
  },
  {
   "cell_type": "markdown",
   "metadata": {
    "id": "RmmsOpbmIGVE"
   },
   "source": [
    "###Thompson sampling with practice exam similarity maximization (**add your code here**)"
   ]
  },
  {
   "cell_type": "code",
   "execution_count": null,
   "metadata": {
    "id": "YOaA_yq7IGVG"
   },
   "outputs": [],
   "source": [
    "def ts_with_practice_similarity_maximization(\n",
    "    rng: np.random.Generator,\n",
    "    theta_mu: np.ndarray,\n",
    "    action_features: np.ndarray,\n",
    "    action_feature_history: np.ndarray,\n",
    "    sigma_p_squared: float,\n",
    "    output_features: np.ndarray):\n",
    "  \"\"\"Thompsong sampling with practice exam similarity maximization.\"\"\"\n",
    "  \n",
    "  # Select the curriculum first based on optimal choice for the exam.\n",
    "  curriculum_idx, _ = ts_action_selection(\n",
    "    rng,\n",
    "    theta_mu,\n",
    "    action_features,\n",
    "    action_feature_history,\n",
    "    sigma_p_squared)\n",
    "    \n",
    "  # Then select practice exam wich maximizes exams' feature similarity given curriculum_idx\n",
    "  assert theta_mu is not None\n",
    "  output_features_practice = output_features[:, 1:] # psi's for practice exam\n",
    "  # Note that practice exams features start from index 1 (official exam is index 0).\n",
    " \n",
    "  ############### Start of Code Modification ################################\n",
    "  ### Please implement practice exam selection that chooses exam with highest\n",
    "  ### similarity to the official exam.\n",
    "  ###########################################################################\n",
    "\n",
    "  practice_idx = ...\n",
    "  ################### End of Code Modification ##############################\n",
    "  \n",
    "  return curriculum_idx, practice_idx\n"
   ]
  },
  {
   "cell_type": "markdown",
   "metadata": {
    "id": "TswI0z4AIJjk"
   },
   "source": [
    "### Thompson sampling with practice exam logit variance maximization (**add your code here**)"
   ]
  },
  {
   "cell_type": "code",
   "execution_count": null,
   "metadata": {
    "id": "ILvrGjixIJjn"
   },
   "outputs": [],
   "source": [
    "def ts_with_practice_score_logit_var_maximization(\n",
    "    rng: np.random.Generator,\n",
    "    theta_mu: np.ndarray,\n",
    "    action_features: np.ndarray,\n",
    "    action_feature_history: np.ndarray,\n",
    "    sigma_p_squared: float, \n",
    "    output_features: np.ndarray):\n",
    "  \"\"\"Thompsong sampling with variance of practice score logit maximization.\"\"\"\n",
    "  \n",
    "  # Select the curriculum first based on optimal choice for the exam.\n",
    "  curriculum_idx, _ = ts_action_selection(\n",
    "    rng,\n",
    "    theta_mu,\n",
    "    action_features,\n",
    "    action_feature_history,\n",
    "    sigma_p_squared)\n",
    "    \n",
    "  # Then select practice wich maximizes the variance of the practice exam's logit given curriculum_idx\n",
    "  assert theta_mu is not None\n",
    "  theta_sigma = get_inv_hessian(theta_mu, action_feature_history, sigma_p_squared)\n",
    "  action_features_practice = action_features[:, 1:, curriculum_idx]\n",
    "  # Note that practice exams features start from index 1 (official exam is index 0).\n",
    " \n",
    "  ############### Start of Code Modification ################################\n",
    "  ### Please implement practice exam selection that chooses exam with highest\n",
    "  ### estimated variance of the logit.\n",
    "  ###########################################################################\n",
    "  \n",
    "  practice_idx = ...\n",
    "  ################### End of Code Modification ##############################\n",
    "  \n",
    "  return curriculum_idx, practice_idx\n"
   ]
  },
  {
   "cell_type": "markdown",
   "metadata": {
    "id": "7xTYPapOHQ0D"
   },
   "source": [
    "## Experiment"
   ]
  },
  {
   "cell_type": "code",
   "execution_count": null,
   "metadata": {
    "id": "FhNkl6PgHQ0E"
   },
   "outputs": [],
   "source": [
    "class Experiment(object):\n",
    "\n",
    "  def __init__(self, agent, environment):\n",
    "    \"\"\"\n",
    "    Args:\n",
    "      agent: The agent to train and evaluate.\n",
    "      environment: The environment to train on.\n",
    "    \"\"\"\n",
    "    self._agent = agent\n",
    "    self._env = environment\n",
    "    self._result_df = None\n",
    "\n",
    "  def run(self, seeds: Sequence[int], time_horizon: int, verbose: bool = True) -> None:\n",
    "    \"\"\"Runs an agent on an environment.\n",
    "    Args:\n",
    "      time_horizon: Number of steps in each trial.\n",
    "      num_simulation: Number of simulations to run.\n",
    "      verbose: Whether to also log to terminal.\n",
    "    \"\"\"\n",
    "\n",
    "    results = []\n",
    "    for sidx, seed in enumerate(seeds):\n",
    "      print(f'Running simulation {sidx}')\n",
    "      start_time = time.time()\n",
    "      self._env.reset(seed)\n",
    "      self._agent.reset(seed, self._env.action_features, self._env.output_features)\n",
    "      cumulative_regret = 0.\n",
    "      num_action = self._agent.action_features.shape[-1]\n",
    "      expected_rewards = np.array([\n",
    "          self._env.compute_output_probs((aidx, 1))[0] for aidx in range(num_action)])\n",
    "      optimal_reward = expected_rewards.max()\n",
    "\n",
    "      for tidx in range(time_horizon):\n",
    "        # Generate an action from the agent's policy.\n",
    "        action = self._agent.select_action()\n",
    "        # Step the environment.\n",
    "        obs = self._env.step(action)\n",
    "        expected_reward = self._env.compute_output_probs(action)[0]\n",
    "        reward = obs[0]\n",
    "        # Update the agent\n",
    "        self._agent.update(action, obs)\n",
    "  \n",
    "        # Book keeping\n",
    "        regret = optimal_reward - expected_reward\n",
    "        cumulative_regret += regret\n",
    "        if verbose and tidx % 100 == 0:\n",
    "          regret_stats = {\n",
    "              'instance': regret, \n",
    "              'cumulative': cumulative_regret,\n",
    "              'per_step': cumulative_regret / (tidx + 1)}\n",
    "          print(f'regret at step {tidx}: {regret_stats}')\n",
    "  \n",
    "        results.append((sidx, tidx, reward, regret, cumulative_regret))\n",
    "      print(f'experiment {sidx} took {time.time() - start_time} seconds.')\n",
    "\n",
    "    self._result = pd.DataFrame(\n",
    "        results, \n",
    "        columns=['trial', 'step', 'reward', 'regret', 'cumulative_regret'])\n",
    "    return self._result"
   ]
  },
  {
   "cell_type": "code",
   "execution_count": null,
   "metadata": {
    "id": "Jtn25mG4HQ0G"
   },
   "outputs": [],
   "source": [
    "action_feature_dim = 20  # Dimension of curricula\n",
    "embedding_dim = 2  # Number of subjects\n",
    "output_dim = 50  # Number of exams\n",
    "num_action = 50\n",
    "sigma_p_squared = 1\n",
    "\n",
    "num_experiment = 5\n",
    "horizon = 1001\n",
    "seeds = range(num_experiment)\n",
    "\n",
    "env = MultipleLogisticEnv(\n",
    "    action_feature_dim=action_feature_dim,\n",
    "    embedding_dim=embedding_dim,\n",
    "    output_dim=output_dim,\n",
    "    num_action=num_action,\n",
    "    sigma_p=np.sqrt(sigma_p_squared))\n",
    " \n",
    "def experiment_factory(action_selection_fn, env=env):\n",
    "  agent = LaplaceAgent(\n",
    "      action_selection_fn,\n",
    "      sigma_p_squared=sigma_p_squared)\n",
    "  return Experiment(agent, env)\n",
    "\n"
   ]
  },
  {
   "cell_type": "code",
   "execution_count": null,
   "metadata": {
    "id": "a-Iu99PhYdMb"
   },
   "outputs": [],
   "source": [
    "action_selection_fn = tswis_action_selection\n",
    "experiment = experiment_factory(action_selection_fn)\n",
    "result_tswis = experiment.run(seeds, horizon)"
   ]
  },
  {
   "cell_type": "code",
   "execution_count": null,
   "metadata": {
    "id": "5ZFdDhIhL8Vs"
   },
   "outputs": [],
   "source": [
    "action_selection_fn = ts_action_selection\n",
    "experiment = experiment_factory(action_selection_fn)\n",
    "result_ts = experiment.run(seeds, horizon)"
   ]
  },
  {
   "cell_type": "code",
   "execution_count": null,
   "metadata": {
    "id": "OhCxPL8Yg1A8"
   },
   "outputs": [],
   "source": [
    "res_ts_summary = result_ts.groupby('step').mean()\n",
    "res_tswis_summary = result_tswis.groupby('step').mean()"
   ]
  },
  {
   "cell_type": "code",
   "execution_count": null,
   "metadata": {
    "id": "fEgdrGM9N1ce"
   },
   "outputs": [],
   "source": [
    "plt.figure(1)\n",
    "plt.clf()\n",
    "\n",
    "plt.plot(res_ts_summary.index, res_ts_summary.cumulative_regret, color=colors[0],\\\n",
    "         linestyle='-', linewidth=2, label=f'TS')\n",
    "plt.plot(res_tswis_summary.index, res_tswis_summary.cumulative_regret, color=colors[1],\\\n",
    "         linestyle='-', linewidth=2, label=f'TS with info seeking')\n",
    "\n",
    "plt.legend(loc=\"best\", fontsize=9)\n",
    "plt.xlabel(\"$t$\", fontsize=14)\n",
    "plt.ylabel(\"cumulative regret\", fontsize=14)\n",
    "plt.title(f'N={action_feature_dim}, K={embedding_dim}, M={output_dim}')\n",
    "\n",
    "# save the plot\n",
    "filename_image = f'ai_tutor_cumulative_regret.pdf'\n",
    "plt.savefig(filename_image)\n",
    "files.download(filename_image)\n",
    "plt.show()"
   ]
  }
 ],
 "metadata": {
  "colab": {
   "collapsed_sections": [
    "MgI1_N6FIDNY",
    "Ho_DdegKoQRl",
    "ruSOPgrHy7Do",
    "wruhIqzbqD1_",
    "_-oXqGLrHG44"
   ],
   "private_outputs": true,
   "provenance": [],
   "toc_visible": true
  },
  "kernelspec": {
   "display_name": "Python 3 (ipykernel)",
   "language": "python",
   "name": "python3"
  },
  "language_info": {
   "codemirror_mode": {
    "name": "ipython",
    "version": 3
   },
   "file_extension": ".py",
   "mimetype": "text/x-python",
   "name": "python",
   "nbconvert_exporter": "python",
   "pygments_lexer": "ipython3",
   "version": "3.10.4"
  }
 },
 "nbformat": 4,
 "nbformat_minor": 1
}
